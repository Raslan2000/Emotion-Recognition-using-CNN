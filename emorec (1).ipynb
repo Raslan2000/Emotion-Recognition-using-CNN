{
  "nbformat": 4,
  "nbformat_minor": 0,
  "metadata": {
    "colab": {
      "name": "emorec.ipynb",
      "provenance": []
    },
    "kernelspec": {
      "name": "python3",
      "display_name": "Python 3"
    },
    "accelerator": "GPU"
  },
  "cells": [
    {
      "cell_type": "code",
      "metadata": {
        "colab": {
          "base_uri": "https://localhost:8080/"
        },
        "id": "rGr7ndUTWkwb",
        "outputId": "1723b6d7-a90c-4636-b204-36f5e7f195c3"
      },
      "source": [
        "!pip install tensorflow-gpu"
      ],
      "execution_count": 1,
      "outputs": [
        {
          "output_type": "stream",
          "text": [
            "Collecting tensorflow-gpu\n",
            "\u001b[?25l  Downloading https://files.pythonhosted.org/packages/85/cc/a27e73cf8b23f2ce4bdd2b7089a42a7819ce6dd7366dceba406ddc5daa9c/tensorflow_gpu-2.4.1-cp37-cp37m-manylinux2010_x86_64.whl (394.3MB)\n",
            "\u001b[K     |████████████████████████████████| 394.3MB 44kB/s \n",
            "\u001b[?25hRequirement already satisfied: keras-preprocessing~=1.1.2 in /usr/local/lib/python3.7/dist-packages (from tensorflow-gpu) (1.1.2)\n",
            "Requirement already satisfied: six~=1.15.0 in /usr/local/lib/python3.7/dist-packages (from tensorflow-gpu) (1.15.0)\n",
            "Requirement already satisfied: tensorboard~=2.4 in /usr/local/lib/python3.7/dist-packages (from tensorflow-gpu) (2.4.1)\n",
            "Requirement already satisfied: opt-einsum~=3.3.0 in /usr/local/lib/python3.7/dist-packages (from tensorflow-gpu) (3.3.0)\n",
            "Requirement already satisfied: grpcio~=1.32.0 in /usr/local/lib/python3.7/dist-packages (from tensorflow-gpu) (1.32.0)\n",
            "Requirement already satisfied: absl-py~=0.10 in /usr/local/lib/python3.7/dist-packages (from tensorflow-gpu) (0.10.0)\n",
            "Requirement already satisfied: wheel~=0.35 in /usr/local/lib/python3.7/dist-packages (from tensorflow-gpu) (0.36.2)\n",
            "Requirement already satisfied: protobuf>=3.9.2 in /usr/local/lib/python3.7/dist-packages (from tensorflow-gpu) (3.12.4)\n",
            "Requirement already satisfied: typing-extensions~=3.7.4 in /usr/local/lib/python3.7/dist-packages (from tensorflow-gpu) (3.7.4.3)\n",
            "Requirement already satisfied: flatbuffers~=1.12.0 in /usr/local/lib/python3.7/dist-packages (from tensorflow-gpu) (1.12)\n",
            "Requirement already satisfied: tensorflow-estimator<2.5.0,>=2.4.0 in /usr/local/lib/python3.7/dist-packages (from tensorflow-gpu) (2.4.0)\n",
            "Requirement already satisfied: gast==0.3.3 in /usr/local/lib/python3.7/dist-packages (from tensorflow-gpu) (0.3.3)\n",
            "Requirement already satisfied: numpy~=1.19.2 in /usr/local/lib/python3.7/dist-packages (from tensorflow-gpu) (1.19.5)\n",
            "Requirement already satisfied: termcolor~=1.1.0 in /usr/local/lib/python3.7/dist-packages (from tensorflow-gpu) (1.1.0)\n",
            "Requirement already satisfied: google-pasta~=0.2 in /usr/local/lib/python3.7/dist-packages (from tensorflow-gpu) (0.2.0)\n",
            "Requirement already satisfied: astunparse~=1.6.3 in /usr/local/lib/python3.7/dist-packages (from tensorflow-gpu) (1.6.3)\n",
            "Requirement already satisfied: wrapt~=1.12.1 in /usr/local/lib/python3.7/dist-packages (from tensorflow-gpu) (1.12.1)\n",
            "Requirement already satisfied: h5py~=2.10.0 in /usr/local/lib/python3.7/dist-packages (from tensorflow-gpu) (2.10.0)\n",
            "Requirement already satisfied: setuptools>=41.0.0 in /usr/local/lib/python3.7/dist-packages (from tensorboard~=2.4->tensorflow-gpu) (53.0.0)\n",
            "Requirement already satisfied: tensorboard-plugin-wit>=1.6.0 in /usr/local/lib/python3.7/dist-packages (from tensorboard~=2.4->tensorflow-gpu) (1.8.0)\n",
            "Requirement already satisfied: google-auth-oauthlib<0.5,>=0.4.1 in /usr/local/lib/python3.7/dist-packages (from tensorboard~=2.4->tensorflow-gpu) (0.4.2)\n",
            "Requirement already satisfied: werkzeug>=0.11.15 in /usr/local/lib/python3.7/dist-packages (from tensorboard~=2.4->tensorflow-gpu) (1.0.1)\n",
            "Requirement already satisfied: google-auth<2,>=1.6.3 in /usr/local/lib/python3.7/dist-packages (from tensorboard~=2.4->tensorflow-gpu) (1.27.0)\n",
            "Requirement already satisfied: requests<3,>=2.21.0 in /usr/local/lib/python3.7/dist-packages (from tensorboard~=2.4->tensorflow-gpu) (2.23.0)\n",
            "Requirement already satisfied: markdown>=2.6.8 in /usr/local/lib/python3.7/dist-packages (from tensorboard~=2.4->tensorflow-gpu) (3.3.4)\n",
            "Requirement already satisfied: requests-oauthlib>=0.7.0 in /usr/local/lib/python3.7/dist-packages (from google-auth-oauthlib<0.5,>=0.4.1->tensorboard~=2.4->tensorflow-gpu) (1.3.0)\n",
            "Requirement already satisfied: pyasn1-modules>=0.2.1 in /usr/local/lib/python3.7/dist-packages (from google-auth<2,>=1.6.3->tensorboard~=2.4->tensorflow-gpu) (0.2.8)\n",
            "Requirement already satisfied: rsa<5,>=3.1.4; python_version >= \"3.6\" in /usr/local/lib/python3.7/dist-packages (from google-auth<2,>=1.6.3->tensorboard~=2.4->tensorflow-gpu) (4.7.2)\n",
            "Requirement already satisfied: cachetools<5.0,>=2.0.0 in /usr/local/lib/python3.7/dist-packages (from google-auth<2,>=1.6.3->tensorboard~=2.4->tensorflow-gpu) (4.2.1)\n",
            "Requirement already satisfied: chardet<4,>=3.0.2 in /usr/local/lib/python3.7/dist-packages (from requests<3,>=2.21.0->tensorboard~=2.4->tensorflow-gpu) (3.0.4)\n",
            "Requirement already satisfied: idna<3,>=2.5 in /usr/local/lib/python3.7/dist-packages (from requests<3,>=2.21.0->tensorboard~=2.4->tensorflow-gpu) (2.10)\n",
            "Requirement already satisfied: certifi>=2017.4.17 in /usr/local/lib/python3.7/dist-packages (from requests<3,>=2.21.0->tensorboard~=2.4->tensorflow-gpu) (2020.12.5)\n",
            "Requirement already satisfied: urllib3!=1.25.0,!=1.25.1,<1.26,>=1.21.1 in /usr/local/lib/python3.7/dist-packages (from requests<3,>=2.21.0->tensorboard~=2.4->tensorflow-gpu) (1.24.3)\n",
            "Requirement already satisfied: importlib-metadata; python_version < \"3.8\" in /usr/local/lib/python3.7/dist-packages (from markdown>=2.6.8->tensorboard~=2.4->tensorflow-gpu) (3.7.0)\n",
            "Requirement already satisfied: oauthlib>=3.0.0 in /usr/local/lib/python3.7/dist-packages (from requests-oauthlib>=0.7.0->google-auth-oauthlib<0.5,>=0.4.1->tensorboard~=2.4->tensorflow-gpu) (3.1.0)\n",
            "Requirement already satisfied: pyasn1<0.5.0,>=0.4.6 in /usr/local/lib/python3.7/dist-packages (from pyasn1-modules>=0.2.1->google-auth<2,>=1.6.3->tensorboard~=2.4->tensorflow-gpu) (0.4.8)\n",
            "Requirement already satisfied: zipp>=0.5 in /usr/local/lib/python3.7/dist-packages (from importlib-metadata; python_version < \"3.8\"->markdown>=2.6.8->tensorboard~=2.4->tensorflow-gpu) (3.4.0)\n",
            "Installing collected packages: tensorflow-gpu\n",
            "Successfully installed tensorflow-gpu-2.4.1\n"
          ],
          "name": "stdout"
        }
      ]
    },
    {
      "cell_type": "code",
      "metadata": {
        "colab": {
          "base_uri": "https://localhost:8080/"
        },
        "id": "UOBk5CTrWoPL",
        "outputId": "441ec879-a9b5-4e1e-9c31-0b0b5d262cd2"
      },
      "source": [
        "!nvidia-smi"
      ],
      "execution_count": 2,
      "outputs": [
        {
          "output_type": "stream",
          "text": [
            "Tue Mar  2 14:16:43 2021       \n",
            "+-----------------------------------------------------------------------------+\n",
            "| NVIDIA-SMI 460.39       Driver Version: 460.32.03    CUDA Version: 11.2     |\n",
            "|-------------------------------+----------------------+----------------------+\n",
            "| GPU  Name        Persistence-M| Bus-Id        Disp.A | Volatile Uncorr. ECC |\n",
            "| Fan  Temp  Perf  Pwr:Usage/Cap|         Memory-Usage | GPU-Util  Compute M. |\n",
            "|                               |                      |               MIG M. |\n",
            "|===============================+======================+======================|\n",
            "|   0  Tesla T4            Off  | 00000000:00:04.0 Off |                    0 |\n",
            "| N/A   45C    P8     9W /  70W |      0MiB / 15109MiB |      0%      Default |\n",
            "|                               |                      |                  N/A |\n",
            "+-------------------------------+----------------------+----------------------+\n",
            "                                                                               \n",
            "+-----------------------------------------------------------------------------+\n",
            "| Processes:                                                                  |\n",
            "|  GPU   GI   CI        PID   Type   Process name                  GPU Memory |\n",
            "|        ID   ID                                                   Usage      |\n",
            "|=============================================================================|\n",
            "|  No running processes found                                                 |\n",
            "+-----------------------------------------------------------------------------+\n"
          ],
          "name": "stdout"
        }
      ]
    },
    {
      "cell_type": "code",
      "metadata": {
        "id": "RQwe0BB44pgL"
      },
      "source": [
        "import tensorflow \r\n",
        "import matplotlib.pyplot as plt\r\n",
        "import numpy as np\r\n",
        "import cv2\r\n",
        "import os"
      ],
      "execution_count": 3,
      "outputs": []
    },
    {
      "cell_type": "code",
      "metadata": {
        "id": "ZnpqgtCn9mws"
      },
      "source": [
        "import zipfile \r\n",
        "zip_ref = zipfile.ZipFile(\"/content/drive/MyDrive/archive (3).zip\", \"r\")\r\n",
        "zip_ref.extractall(\"files\")\r\n",
        "zip_ref.close()"
      ],
      "execution_count": 4,
      "outputs": []
    },
    {
      "cell_type": "code",
      "metadata": {
        "colab": {
          "base_uri": "https://localhost:8080/",
          "height": 87
        },
        "id": "jSjPNdzB99Ud",
        "outputId": "e6cd96ce-2447-405c-9b50-d792c816685d"
      },
      "source": [
        "\"\"\"directory=\"/content/files/CK+48\"\r\n",
        "classes=[\"0\",\"1\",\"2\",\"3\",\"4\"]\r\n",
        "#\"anger\", \"fear\",\"happy\",\"sadness\",\"surprise\"\r\n",
        "for categories in classes:\r\n",
        "  path=os.path.join(directory, categories)\r\n",
        "  for img in os.listdir(path):\r\n",
        "    img_array=cv2.imread(os.path.join(path,img))\r\n",
        "    plt.imshow(cv2.cvtColor(img_array,cv2.COLOR_BGR2RGB))\r\n",
        "    plt.show()\r\n",
        "    break\r\n",
        "  break\"\"\""
      ],
      "execution_count": 5,
      "outputs": [
        {
          "output_type": "execute_result",
          "data": {
            "application/vnd.google.colaboratory.intrinsic+json": {
              "type": "string"
            },
            "text/plain": [
              "'directory=\"/content/files/CK+48\"\\nclasses=[\"0\",\"1\",\"2\",\"3\",\"4\"]\\n#\"anger\", \"fear\",\"happy\",\"sadness\",\"surprise\"\\nfor categories in classes:\\n  path=os.path.join(directory, categories)\\n  for img in os.listdir(path):\\n    img_array=cv2.imread(os.path.join(path,img))\\n    plt.imshow(cv2.cvtColor(img_array,cv2.COLOR_BGR2RGB))\\n    plt.show()\\n    break\\n  break'"
            ]
          },
          "metadata": {
            "tags": []
          },
          "execution_count": 5
        }
      ]
    },
    {
      "cell_type": "code",
      "metadata": {
        "colab": {
          "base_uri": "https://localhost:8080/",
          "height": 53
        },
        "id": "mg4YXSvRAUhc",
        "outputId": "a12a3739-b01f-40f8-8afb-60768dba9094"
      },
      "source": [
        "img_size=227\r\n",
        "\"\"\"new_array=cv2.resize(img_array,(img_size,img_size))\r\n",
        "plt.imshow(cv2.cvtColor(new_array,cv2.COLOR_BGR2RGB))\r\n",
        "plt.show()\"\"\""
      ],
      "execution_count": 6,
      "outputs": [
        {
          "output_type": "execute_result",
          "data": {
            "application/vnd.google.colaboratory.intrinsic+json": {
              "type": "string"
            },
            "text/plain": [
              "'new_array=cv2.resize(img_array,(img_size,img_size))\\nplt.imshow(cv2.cvtColor(new_array,cv2.COLOR_BGR2RGB))\\nplt.show()'"
            ]
          },
          "metadata": {
            "tags": []
          },
          "execution_count": 6
        }
      ]
    },
    {
      "cell_type": "code",
      "metadata": {
        "colab": {
          "base_uri": "https://localhost:8080/",
          "height": 35
        },
        "id": "-Ewx5rMMA2QQ",
        "outputId": "34560707-5875-4e83-ddcf-572817d909bc"
      },
      "source": [
        "\"new_array.shape\""
      ],
      "execution_count": 7,
      "outputs": [
        {
          "output_type": "execute_result",
          "data": {
            "application/vnd.google.colaboratory.intrinsic+json": {
              "type": "string"
            },
            "text/plain": [
              "'new_array.shape'"
            ]
          },
          "metadata": {
            "tags": []
          },
          "execution_count": 7
        }
      ]
    },
    {
      "cell_type": "code",
      "metadata": {
        "id": "WMkFig08A6AX",
        "colab": {
          "base_uri": "https://localhost:8080/"
        },
        "outputId": "d74dd956-f015-46d3-afca-d6d5f58c2e74"
      },
      "source": [
        "from tensorflow.keras.utils import to_categorical\r\n",
        "from sklearn.preprocessing import LabelBinarizer\r\n",
        "data=[]\r\n",
        "labels=[]\r\n",
        "directory=\"/content/files/CK+48\"\r\n",
        "classes=[\"0\",\"1\",\"2\",\"3\",\"4\"]\r\n",
        "for category in classes:\r\n",
        "  path=os.path.join(directory, category)\r\n",
        "  for img in os.listdir(path):\r\n",
        "    img_array=cv2.imread(os.path.join(path,img))\r\n",
        "    new_array=cv2.resize(img_array,(img_size,img_size))\r\n",
        "    data.append(new_array)\r\n",
        "    labels.append(category)\r\n",
        "\r\n",
        "\r\n",
        "lb = LabelBinarizer()\r\n",
        "labels = lb.fit_transform(labels)\r\n",
        "\r\n",
        "\r\n",
        "print(len(data))"
      ],
      "execution_count": 8,
      "outputs": [
        {
          "output_type": "stream",
          "text": [
            "750\n"
          ],
          "name": "stdout"
        }
      ]
    },
    {
      "cell_type": "code",
      "metadata": {
        "id": "BCvZYOybCKgF"
      },
      "source": [
        "data=np.array(data).reshape(-1,img_size,img_size,3) #converting into 4 dimension"
      ],
      "execution_count": 9,
      "outputs": []
    },
    {
      "cell_type": "code",
      "metadata": {
        "id": "HlaMshfRCyEk",
        "colab": {
          "base_uri": "https://localhost:8080/"
        },
        "outputId": "46d8ac75-3391-4d6e-d719-1fc5af0a044d"
      },
      "source": [
        "data.shape"
      ],
      "execution_count": 10,
      "outputs": [
        {
          "output_type": "execute_result",
          "data": {
            "text/plain": [
              "(750, 227, 227, 3)"
            ]
          },
          "metadata": {
            "tags": []
          },
          "execution_count": 10
        }
      ]
    },
    {
      "cell_type": "code",
      "metadata": {
        "id": "2dR9BakJC0ob"
      },
      "source": [
        "data=data/255.0"
      ],
      "execution_count": 11,
      "outputs": []
    },
    {
      "cell_type": "code",
      "metadata": {
        "id": "nhc6sGGgDBLT",
        "colab": {
          "base_uri": "https://localhost:8080/"
        },
        "outputId": "0a62862e-4441-414e-c1cb-c224eb50e42c"
      },
      "source": [
        "labels[0]"
      ],
      "execution_count": 12,
      "outputs": [
        {
          "output_type": "execute_result",
          "data": {
            "text/plain": [
              "array([1, 0, 0, 0, 0])"
            ]
          },
          "metadata": {
            "tags": []
          },
          "execution_count": 12
        }
      ]
    },
    {
      "cell_type": "code",
      "metadata": {
        "id": "BVNZDLCpDFxo"
      },
      "source": [
        "labels=np.array(labels)"
      ],
      "execution_count": 13,
      "outputs": []
    },
    {
      "cell_type": "code",
      "metadata": {
        "id": "1vtR97QoDagu",
        "colab": {
          "base_uri": "https://localhost:8080/"
        },
        "outputId": "33d6bc52-8ddc-4440-929e-e9a8b4d77371"
      },
      "source": [
        "labels.shape"
      ],
      "execution_count": 14,
      "outputs": [
        {
          "output_type": "execute_result",
          "data": {
            "text/plain": [
              "(750, 5)"
            ]
          },
          "metadata": {
            "tags": []
          },
          "execution_count": 14
        }
      ]
    },
    {
      "cell_type": "code",
      "metadata": {
        "id": "kQdeP5iqDhC3"
      },
      "source": [
        "import tensorflow as tf\r\n",
        "from tensorflow.keras.models import Sequential\r\n",
        "from tensorflow.keras.layers import Dense, Activation, Dropout, Flatten,\\\r\n",
        " Conv2D, MaxPooling2D,BatchNormalization\r\n",
        "from tensorflow.keras.models import Model\r\n",
        "model = Sequential()\r\n",
        "\r\n",
        "# 1st Convolutional Layer\r\n",
        "model.add(Conv2D(filters=96, input_shape=(227,227,3), kernel_size=(11,11),\\\r\n",
        " strides=(4,4), padding='valid'))\r\n",
        "model.add(Activation('relu'))\r\n",
        "# Pooling \r\n",
        "model.add(MaxPooling2D(pool_size=(2,2), strides=(2,2), padding='valid'))\r\n",
        "# Batch Normalisation before passing it to the next layer\r\n",
        "model.add(BatchNormalization())\r\n",
        "\r\n",
        "# 2nd Convolutional Layer\r\n",
        "model.add(Conv2D(filters=256, kernel_size=(11,11), strides=(1,1), padding='valid'))\r\n",
        "model.add(Activation('relu'))\r\n",
        "# Pooling\r\n",
        "model.add(MaxPooling2D(pool_size=(2,2), strides=(2,2), padding='valid'))\r\n",
        "# Batch Normalisation\r\n",
        "model.add(BatchNormalization())\r\n",
        "\r\n",
        "# 3rd Convolutional Layer\r\n",
        "model.add(Conv2D(filters=384, kernel_size=(3,3), strides=(1,1), padding='valid'))\r\n",
        "model.add(Activation('relu'))\r\n",
        "# Batch Normalisation\r\n",
        "model.add(BatchNormalization())\r\n",
        "\r\n",
        "# 4th Convolutional Layer\r\n",
        "model.add(Conv2D(filters=384, kernel_size=(3,3), strides=(1,1), padding='valid'))\r\n",
        "model.add(Activation('relu'))\r\n",
        "# Batch Normalisation\r\n",
        "model.add(BatchNormalization())\r\n",
        "\r\n",
        "# 5th Convolutional Layer\r\n",
        "model.add(Conv2D(filters=256, kernel_size=(3,3), strides=(1,1), padding='valid'))\r\n",
        "model.add(Activation('relu'))\r\n",
        "# Pooling\r\n",
        "model.add(MaxPooling2D(pool_size=(2,2), strides=(2,2), padding='valid'))\r\n",
        "# Batch Normalisation\r\n",
        "model.add(BatchNormalization())\r\n",
        "\r\n",
        "# Passing it to a dense layer\r\n",
        "model.add(Flatten())\r\n",
        "# 1st Dense Layer\r\n",
        "model.add(Dense(4096, input_shape=(224*224*3,)))\r\n",
        "model.add(Activation('relu'))\r\n",
        "# Add Dropout to prevent overfitting\r\n",
        "model.add(Dropout(0.4))\r\n",
        "# Batch Normalisation\r\n",
        "model.add(BatchNormalization())\r\n",
        "\r\n",
        "# 2nd Dense Layer\r\n",
        "model.add(Dense(4096))\r\n",
        "model.add(Activation('relu'))\r\n",
        "# Add Dropout\r\n",
        "model.add(Dropout(0.4))\r\n",
        "# Batch Normalisation\r\n",
        "model.add(BatchNormalization())\r\n",
        "\r\n",
        "# 3rd Dense Layer\r\n",
        "model.add(Dense(1000))\r\n",
        "model.add(Activation('relu'))\r\n",
        "# Add Dropout\r\n",
        "model.add(Dropout(0.4))\r\n",
        "# Batch Normalisation\r\n",
        "model.add(BatchNormalization())\r\n",
        "\r\n",
        "# Output Layer\r\n",
        "model.add(Dense(5))\r\n",
        "model.add(Activation('softmax'))\r\n"
      ],
      "execution_count": 15,
      "outputs": []
    },
    {
      "cell_type": "code",
      "metadata": {
        "id": "-RU0r3bVD_UR",
        "colab": {
          "base_uri": "https://localhost:8080/"
        },
        "outputId": "bf53e6d9-9074-4c9e-f6c3-0f05c93cf3ab"
      },
      "source": [
        "model.summary()"
      ],
      "execution_count": 16,
      "outputs": [
        {
          "output_type": "stream",
          "text": [
            "Model: \"sequential\"\n",
            "_________________________________________________________________\n",
            "Layer (type)                 Output Shape              Param #   \n",
            "=================================================================\n",
            "conv2d (Conv2D)              (None, 55, 55, 96)        34944     \n",
            "_________________________________________________________________\n",
            "activation (Activation)      (None, 55, 55, 96)        0         \n",
            "_________________________________________________________________\n",
            "max_pooling2d (MaxPooling2D) (None, 27, 27, 96)        0         \n",
            "_________________________________________________________________\n",
            "batch_normalization (BatchNo (None, 27, 27, 96)        384       \n",
            "_________________________________________________________________\n",
            "conv2d_1 (Conv2D)            (None, 17, 17, 256)       2973952   \n",
            "_________________________________________________________________\n",
            "activation_1 (Activation)    (None, 17, 17, 256)       0         \n",
            "_________________________________________________________________\n",
            "max_pooling2d_1 (MaxPooling2 (None, 8, 8, 256)         0         \n",
            "_________________________________________________________________\n",
            "batch_normalization_1 (Batch (None, 8, 8, 256)         1024      \n",
            "_________________________________________________________________\n",
            "conv2d_2 (Conv2D)            (None, 6, 6, 384)         885120    \n",
            "_________________________________________________________________\n",
            "activation_2 (Activation)    (None, 6, 6, 384)         0         \n",
            "_________________________________________________________________\n",
            "batch_normalization_2 (Batch (None, 6, 6, 384)         1536      \n",
            "_________________________________________________________________\n",
            "conv2d_3 (Conv2D)            (None, 4, 4, 384)         1327488   \n",
            "_________________________________________________________________\n",
            "activation_3 (Activation)    (None, 4, 4, 384)         0         \n",
            "_________________________________________________________________\n",
            "batch_normalization_3 (Batch (None, 4, 4, 384)         1536      \n",
            "_________________________________________________________________\n",
            "conv2d_4 (Conv2D)            (None, 2, 2, 256)         884992    \n",
            "_________________________________________________________________\n",
            "activation_4 (Activation)    (None, 2, 2, 256)         0         \n",
            "_________________________________________________________________\n",
            "max_pooling2d_2 (MaxPooling2 (None, 1, 1, 256)         0         \n",
            "_________________________________________________________________\n",
            "batch_normalization_4 (Batch (None, 1, 1, 256)         1024      \n",
            "_________________________________________________________________\n",
            "flatten (Flatten)            (None, 256)               0         \n",
            "_________________________________________________________________\n",
            "dense (Dense)                (None, 4096)              1052672   \n",
            "_________________________________________________________________\n",
            "activation_5 (Activation)    (None, 4096)              0         \n",
            "_________________________________________________________________\n",
            "dropout (Dropout)            (None, 4096)              0         \n",
            "_________________________________________________________________\n",
            "batch_normalization_5 (Batch (None, 4096)              16384     \n",
            "_________________________________________________________________\n",
            "dense_1 (Dense)              (None, 4096)              16781312  \n",
            "_________________________________________________________________\n",
            "activation_6 (Activation)    (None, 4096)              0         \n",
            "_________________________________________________________________\n",
            "dropout_1 (Dropout)          (None, 4096)              0         \n",
            "_________________________________________________________________\n",
            "batch_normalization_6 (Batch (None, 4096)              16384     \n",
            "_________________________________________________________________\n",
            "dense_2 (Dense)              (None, 1000)              4097000   \n",
            "_________________________________________________________________\n",
            "activation_7 (Activation)    (None, 1000)              0         \n",
            "_________________________________________________________________\n",
            "dropout_2 (Dropout)          (None, 1000)              0         \n",
            "_________________________________________________________________\n",
            "batch_normalization_7 (Batch (None, 1000)              4000      \n",
            "_________________________________________________________________\n",
            "dense_3 (Dense)              (None, 5)                 5005      \n",
            "_________________________________________________________________\n",
            "activation_8 (Activation)    (None, 5)                 0         \n",
            "=================================================================\n",
            "Total params: 28,084,757\n",
            "Trainable params: 28,063,621\n",
            "Non-trainable params: 21,136\n",
            "_________________________________________________________________\n"
          ],
          "name": "stdout"
        }
      ]
    },
    {
      "cell_type": "code",
      "metadata": {
        "id": "ANEh4ws8FclM"
      },
      "source": [
        "model.compile(loss = 'categorical_crossentropy', optimizer = 'adam', metrics = ['accuracy'])"
      ],
      "execution_count": 17,
      "outputs": []
    },
    {
      "cell_type": "code",
      "metadata": {
        "id": "Yei66bEdEH3o",
        "colab": {
          "base_uri": "https://localhost:8080/"
        },
        "outputId": "6967e651-554e-4b4b-bf3e-e1eecbac052f"
      },
      "source": [
        "from tensorflow.keras.callbacks import ModelCheckpoint\r\n",
        "checkpoint = ModelCheckpoint('AlexNet-{epoch:03d}.model', monitor='val_loss', verbose=0, save_best_only = True,\r\n",
        "                             mode = 'auto')\r\n",
        "history = model.fit(data, labels, epochs = 40, callbacks = [checkpoint], validation_split=0.2)"
      ],
      "execution_count": 18,
      "outputs": [
        {
          "output_type": "stream",
          "text": [
            "Epoch 1/40\n",
            "19/19 [==============================] - 79s 4s/step - loss: 2.3500 - accuracy: 0.3400 - val_loss: 390.4289 - val_accuracy: 0.0000e+00\n",
            "INFO:tensorflow:Assets written to: AlexNet-001.model/assets\n",
            "Epoch 2/40\n",
            "19/19 [==============================] - 78s 4s/step - loss: 1.3662 - accuracy: 0.5626 - val_loss: 280.5867 - val_accuracy: 0.0000e+00\n",
            "INFO:tensorflow:Assets written to: AlexNet-002.model/assets\n",
            "Epoch 3/40\n",
            "19/19 [==============================] - 77s 4s/step - loss: 1.1657 - accuracy: 0.6061 - val_loss: 122.6737 - val_accuracy: 0.0000e+00\n",
            "INFO:tensorflow:Assets written to: AlexNet-003.model/assets\n",
            "Epoch 4/40\n",
            "19/19 [==============================] - 77s 4s/step - loss: 0.9479 - accuracy: 0.6911 - val_loss: 46.9660 - val_accuracy: 0.0000e+00\n",
            "INFO:tensorflow:Assets written to: AlexNet-004.model/assets\n",
            "Epoch 5/40\n",
            "19/19 [==============================] - 77s 4s/step - loss: 0.9470 - accuracy: 0.6899 - val_loss: 40.4692 - val_accuracy: 0.0133\n",
            "INFO:tensorflow:Assets written to: AlexNet-005.model/assets\n",
            "Epoch 6/40\n",
            "19/19 [==============================] - 78s 4s/step - loss: 0.7966 - accuracy: 0.7059 - val_loss: 11.5373 - val_accuracy: 0.1733\n",
            "INFO:tensorflow:Assets written to: AlexNet-006.model/assets\n",
            "Epoch 7/40\n",
            "19/19 [==============================] - 77s 4s/step - loss: 0.5631 - accuracy: 0.7953 - val_loss: 2.5690 - val_accuracy: 0.3133\n",
            "INFO:tensorflow:Assets written to: AlexNet-007.model/assets\n",
            "Epoch 8/40\n",
            "19/19 [==============================] - 77s 4s/step - loss: 0.6322 - accuracy: 0.7907 - val_loss: 5.7684 - val_accuracy: 0.3733\n",
            "Epoch 9/40\n",
            "19/19 [==============================] - 80s 4s/step - loss: 0.5147 - accuracy: 0.8217 - val_loss: 0.2975 - val_accuracy: 0.8933\n",
            "INFO:tensorflow:Assets written to: AlexNet-009.model/assets\n",
            "Epoch 10/40\n",
            "19/19 [==============================] - 78s 4s/step - loss: 0.4954 - accuracy: 0.8307 - val_loss: 0.5627 - val_accuracy: 0.8733\n",
            "Epoch 11/40\n",
            "19/19 [==============================] - 77s 4s/step - loss: 0.4185 - accuracy: 0.8687 - val_loss: 0.2512 - val_accuracy: 0.9333\n",
            "INFO:tensorflow:Assets written to: AlexNet-011.model/assets\n",
            "Epoch 12/40\n",
            "19/19 [==============================] - 77s 4s/step - loss: 0.3411 - accuracy: 0.8827 - val_loss: 0.1401 - val_accuracy: 0.9667\n",
            "INFO:tensorflow:Assets written to: AlexNet-012.model/assets\n",
            "Epoch 13/40\n",
            "19/19 [==============================] - 78s 4s/step - loss: 0.2948 - accuracy: 0.9035 - val_loss: 0.4283 - val_accuracy: 0.8467\n",
            "Epoch 14/40\n",
            "19/19 [==============================] - 78s 4s/step - loss: 0.2754 - accuracy: 0.8934 - val_loss: 0.0125 - val_accuracy: 1.0000\n",
            "INFO:tensorflow:Assets written to: AlexNet-014.model/assets\n",
            "Epoch 15/40\n",
            "19/19 [==============================] - 77s 4s/step - loss: 0.3130 - accuracy: 0.8906 - val_loss: 0.3558 - val_accuracy: 0.9000\n",
            "Epoch 16/40\n",
            "19/19 [==============================] - 76s 4s/step - loss: 0.1773 - accuracy: 0.9343 - val_loss: 0.2762 - val_accuracy: 0.8933\n",
            "Epoch 17/40\n",
            "19/19 [==============================] - 77s 4s/step - loss: 0.2252 - accuracy: 0.9295 - val_loss: 0.5024 - val_accuracy: 0.8267\n",
            "Epoch 18/40\n",
            "19/19 [==============================] - 77s 4s/step - loss: 0.1939 - accuracy: 0.9191 - val_loss: 0.0284 - val_accuracy: 0.9933\n",
            "Epoch 19/40\n",
            "19/19 [==============================] - 77s 4s/step - loss: 0.1074 - accuracy: 0.9627 - val_loss: 0.0655 - val_accuracy: 0.9867\n",
            "Epoch 20/40\n",
            "19/19 [==============================] - 76s 4s/step - loss: 0.1645 - accuracy: 0.9440 - val_loss: 0.7513 - val_accuracy: 0.6933\n",
            "Epoch 21/40\n",
            "19/19 [==============================] - 77s 4s/step - loss: 0.1573 - accuracy: 0.9421 - val_loss: 3.2348 - val_accuracy: 0.1800\n",
            "Epoch 22/40\n",
            "19/19 [==============================] - 77s 4s/step - loss: 0.0632 - accuracy: 0.9803 - val_loss: 0.1111 - val_accuracy: 0.9533\n",
            "Epoch 23/40\n",
            "19/19 [==============================] - 77s 4s/step - loss: 0.1656 - accuracy: 0.9607 - val_loss: 0.4657 - val_accuracy: 0.8333\n",
            "Epoch 24/40\n",
            "19/19 [==============================] - 76s 4s/step - loss: 0.1949 - accuracy: 0.9361 - val_loss: 0.0193 - val_accuracy: 0.9867\n",
            "Epoch 25/40\n",
            "19/19 [==============================] - 76s 4s/step - loss: 0.1276 - accuracy: 0.9604 - val_loss: 0.0575 - val_accuracy: 0.9733\n",
            "Epoch 26/40\n",
            "19/19 [==============================] - 76s 4s/step - loss: 0.1307 - accuracy: 0.9586 - val_loss: 2.5185 - val_accuracy: 0.3333\n",
            "Epoch 27/40\n",
            "19/19 [==============================] - 76s 4s/step - loss: 0.0884 - accuracy: 0.9754 - val_loss: 0.3413 - val_accuracy: 0.8800\n",
            "Epoch 28/40\n",
            "19/19 [==============================] - 77s 4s/step - loss: 0.0982 - accuracy: 0.9693 - val_loss: 0.4357 - val_accuracy: 0.9267\n",
            "Epoch 29/40\n",
            "19/19 [==============================] - 77s 4s/step - loss: 0.0856 - accuracy: 0.9678 - val_loss: 0.9544 - val_accuracy: 0.7133\n",
            "Epoch 30/40\n",
            "19/19 [==============================] - 77s 4s/step - loss: 0.1146 - accuracy: 0.9716 - val_loss: 0.0783 - val_accuracy: 0.9867\n",
            "Epoch 31/40\n",
            "19/19 [==============================] - 77s 4s/step - loss: 0.0705 - accuracy: 0.9760 - val_loss: 0.8787 - val_accuracy: 0.7533\n",
            "Epoch 32/40\n",
            "19/19 [==============================] - 76s 4s/step - loss: 0.0874 - accuracy: 0.9671 - val_loss: 0.4114 - val_accuracy: 0.8733\n",
            "Epoch 33/40\n",
            "19/19 [==============================] - 77s 4s/step - loss: 0.0596 - accuracy: 0.9799 - val_loss: 0.5519 - val_accuracy: 0.8467\n",
            "Epoch 34/40\n",
            "19/19 [==============================] - 78s 4s/step - loss: 0.0799 - accuracy: 0.9725 - val_loss: 1.2844 - val_accuracy: 0.4467\n",
            "Epoch 35/40\n",
            "19/19 [==============================] - 78s 4s/step - loss: 0.0840 - accuracy: 0.9673 - val_loss: 0.5670 - val_accuracy: 0.7600\n",
            "Epoch 36/40\n",
            "19/19 [==============================] - 77s 4s/step - loss: 0.0439 - accuracy: 0.9827 - val_loss: 1.5096 - val_accuracy: 0.5933\n",
            "Epoch 37/40\n",
            "19/19 [==============================] - 76s 4s/step - loss: 0.0298 - accuracy: 0.9844 - val_loss: 0.1476 - val_accuracy: 0.9200\n",
            "Epoch 38/40\n",
            "19/19 [==============================] - 76s 4s/step - loss: 0.0317 - accuracy: 0.9892 - val_loss: 0.2865 - val_accuracy: 0.8933\n",
            "Epoch 39/40\n",
            "19/19 [==============================] - 76s 4s/step - loss: 0.0208 - accuracy: 0.9911 - val_loss: 0.1723 - val_accuracy: 0.9533\n",
            "Epoch 40/40\n",
            "19/19 [==============================] - 75s 4s/step - loss: 0.0217 - accuracy: 0.9951 - val_loss: 0.2300 - val_accuracy: 0.9200\n"
          ],
          "name": "stdout"
        }
      ]
    },
    {
      "cell_type": "code",
      "metadata": {
        "colab": {
          "base_uri": "https://localhost:8080/",
          "height": 299
        },
        "id": "_gfvfbhcf-7W",
        "outputId": "9f3b874c-4e31-475d-9b3b-a4b702ea753a"
      },
      "source": [
        "import matplotlib.pyplot as plt\r\n",
        "N = 40\r\n",
        "H=history\r\n",
        "plt.style.use(\"ggplot\")\r\n",
        "plt.figure()\r\n",
        "plt.plot(np.arange(0, N), H.history[\"loss\"], label=\"train_loss\")\r\n",
        "plt.plot(np.arange(0, N), H.history[\"val_loss\"], label=\"val_loss\")\r\n",
        "plt.plot(np.arange(0, N), H.history[\"accuracy\"], label=\"train_acc\")\r\n",
        "plt.plot(np.arange(0, N), H.history[\"val_accuracy\"], label=\"val_acc\")\r\n",
        "plt.title(\"Training Loss and Accuracy\")\r\n",
        "plt.xlabel(\"Epoch #\")\r\n",
        "plt.ylabel(\"Loss/Accuracy\")\r\n",
        "plt.legend(loc=\"lower left\")\r\n",
        "plt.savefig(\"plot.png\")"
      ],
      "execution_count": 19,
      "outputs": [
        {
          "output_type": "display_data",
          "data": {
            "image/png": "[encoded data removed]",
            "text/plain": [
              "<Figure size 432x288 with 1 Axes>"
            ]
          },
          "metadata": {
            "tags": []
          }
        }
      ]
    },
    {
      "cell_type": "code",
      "metadata": {
        "colab": {
          "base_uri": "https://localhost:8080/",
          "height": 531
        },
        "id": "ocxMFXBUgG6B",
        "outputId": "8978e791-3108-4199-a042-be1983025545"
      },
      "source": [
        "r=history\r\n",
        "plt.plot(r.history['loss'], label='train loss')\r\n",
        "plt.plot(r.history['val_loss'], label='val loss')\r\n",
        "plt.legend()\r\n",
        "plt.show()\r\n",
        "plt.savefig('LossVal_loss')\r\n",
        "\r\n",
        "# plot the accuracy\r\n",
        "plt.plot(r.history['accuracy'], label='train acc')\r\n",
        "plt.plot(r.history['val_accuracy'], label='val acc')\r\n",
        "plt.legend()\r\n",
        "plt.show()\r\n",
        "plt.savefig('AccVal_acc')"
      ],
      "execution_count": 20,
      "outputs": [
        {
          "output_type": "display_data",
          "data": {
            "image/png": "[encoded data removed]",
            "text/plain": [
              "<Figure size 432x288 with 1 Axes>"
            ]
          },
          "metadata": {
            "tags": []
          }
        },
        {
          "output_type": "display_data",
          "data": {
            "image/png": "[encoded data removed]",
            "text/plain": [
              "<Figure size 432x288 with 1 Axes>"
            ]
          },
          "metadata": {
            "tags": []
          }
        },
        {
          "output_type": "display_data",
          "data": {
            "text/plain": [
              "<Figure size 432x288 with 0 Axes>"
            ]
          },
          "metadata": {
            "tags": []
          }
        }
      ]
    },
    {
      "cell_type": "code",
      "metadata": {
        "id": "pNgizig-gx7Y"
      },
      "source": [
        "from tensorflow.keras.models import load_model\r\n",
        "\r\n",
        "model.save('emorec.h5')"
      ],
      "execution_count": 21,
      "outputs": []
    }
  ]
}